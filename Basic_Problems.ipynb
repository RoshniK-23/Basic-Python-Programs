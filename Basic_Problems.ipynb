{
  "nbformat": 4,
  "nbformat_minor": 0,
  "metadata": {
    "colab": {
      "provenance": [],
      "authorship_tag": "ABX9TyPakinHAF9//LQxy8MDOGS/",
      "include_colab_link": true
    },
    "kernelspec": {
      "name": "python3",
      "display_name": "Python 3"
    },
    "language_info": {
      "name": "python"
    }
  },
  "cells": [
    {
      "cell_type": "markdown",
      "metadata": {
        "id": "view-in-github",
        "colab_type": "text"
      },
      "source": [
        "<a href=\"https://colab.research.google.com/github/RoshniK-23/Python/blob/main/Basic_Problems.ipynb\" target=\"_parent\"><img src=\"https://colab.research.google.com/assets/colab-badge.svg\" alt=\"Open In Colab\"/></a>"
      ]
    },
    {
      "cell_type": "markdown",
      "source": [
        "1.Sum of N number"
      ],
      "metadata": {
        "id": "H8nWhweZnqGi"
      }
    },
    {
      "cell_type": "code",
      "execution_count": null,
      "metadata": {
        "colab": {
          "base_uri": "https://localhost:8080/"
        },
        "id": "6X4cIuEim5Qn",
        "outputId": "fb522630-f93c-4761-800e-b27feb28a3c1"
      },
      "outputs": [
        {
          "output_type": "stream",
          "name": "stdout",
          "text": [
            "5\n",
            "15\n"
          ]
        }
      ],
      "source": [
        "n = int(input())\n",
        "sum = 0\n",
        "for i in range(n+1):\n",
        "    sum+=i\n",
        "print(sum)"
      ]
    },
    {
      "cell_type": "markdown",
      "source": [
        "2.Sum of the Numbers in a Given Interval"
      ],
      "metadata": {
        "id": "qQPiSzn-nxAd"
      }
    },
    {
      "cell_type": "code",
      "source": [
        "n1 = int(input())\n",
        "n2 = int(input())\n",
        "sum = 0\n",
        "for i in range(n1,n2+1):\n",
        "    sum+=i\n",
        "print(sum)"
      ],
      "metadata": {
        "colab": {
          "base_uri": "https://localhost:8080/"
        },
        "id": "_Ct_8Y-Boqxv",
        "outputId": "3bf53f92-1bde-4e97-8383-877e312895bf"
      },
      "execution_count": null,
      "outputs": [
        {
          "output_type": "stream",
          "name": "stdout",
          "text": [
            "2\n",
            "5\n",
            "14\n"
          ]
        }
      ]
    },
    {
      "cell_type": "markdown",
      "source": [
        "3.Greatest of the Two Numbers"
      ],
      "metadata": {
        "id": "02njEnXeqoDo"
      }
    },
    {
      "cell_type": "code",
      "source": [
        "a = int(input())\n",
        "b = int(input())\n",
        "def greatest_Of_Two_Numbers(num1, num2):\n",
        "  if a > b:\n",
        "    return a\n",
        "  else :\n",
        "    return b\n",
        "greatest_Of_Two_Numbers(a,b)"
      ],
      "metadata": {
        "colab": {
          "base_uri": "https://localhost:8080/"
        },
        "id": "-Bw3KpA8qwRT",
        "outputId": "51f56747-08f2-4104-ea99-d35223fa8b91"
      },
      "execution_count": null,
      "outputs": [
        {
          "name": "stdout",
          "output_type": "stream",
          "text": [
            "3\n",
            "5\n"
          ]
        },
        {
          "output_type": "execute_result",
          "data": {
            "text/plain": [
              "5"
            ]
          },
          "metadata": {},
          "execution_count": 8
        }
      ]
    },
    {
      "cell_type": "markdown",
      "source": [
        "4.Greatest of the Three Numbers"
      ],
      "metadata": {
        "id": "uKGt0jBCswDD"
      }
    },
    {
      "cell_type": "code",
      "source": [
        "a = int(input())\n",
        "b = int(input())\n",
        "c = int(input())\n",
        "def greatest_Of_Two_Numbers(a,b,c):\n",
        "  if a > b and a > c:\n",
        "    return a\n",
        "  elif b > a and b > c:\n",
        "    return b\n",
        "  else:\n",
        "    return c\n",
        "greatest_Of_Two_Numbers(a,b,c)"
      ],
      "metadata": {
        "colab": {
          "base_uri": "https://localhost:8080/"
        },
        "id": "GOuPXkT4sxH0",
        "outputId": "2fbcf002-680a-45d6-a16b-16585485f156"
      },
      "execution_count": null,
      "outputs": [
        {
          "name": "stdout",
          "output_type": "stream",
          "text": [
            "23\n",
            "6\n",
            "7\n"
          ]
        },
        {
          "output_type": "execute_result",
          "data": {
            "text/plain": [
              "23"
            ]
          },
          "metadata": {},
          "execution_count": 10
        }
      ]
    },
    {
      "cell_type": "markdown",
      "source": [
        "5.Check Whether a Year is a Leap Year or Not"
      ],
      "metadata": {
        "id": "L4HX2Y1utd6b"
      }
    },
    {
      "cell_type": "code",
      "source": [
        "year = int(input())\n",
        "if year%4 == 0 and year%100 != 0:\n",
        "  print(\"Leap Year\")\n",
        "elif year%400 == 0:\n",
        "  print(\"Leap Year\")\n",
        "else:\n",
        "  print(\"Non Leap Year\")"
      ],
      "metadata": {
        "colab": {
          "base_uri": "https://localhost:8080/"
        },
        "id": "UhMeZFMvxyqG",
        "outputId": "7123445c-2e8d-4c19-fe8b-911205a92a93"
      },
      "execution_count": null,
      "outputs": [
        {
          "output_type": "stream",
          "name": "stdout",
          "text": [
            "2024\n",
            "Leap Year\n"
          ]
        }
      ]
    },
    {
      "cell_type": "markdown",
      "source": [
        "6.Check Whether a Number is a Prime or Not"
      ],
      "metadata": {
        "id": "QW2-uXsUzum4"
      }
    },
    {
      "cell_type": "code",
      "source": [
        "n = int(input())\n",
        "for i in range(2,n):\n",
        "  if n%i == 0:\n",
        "    print(\"Non Prime Number\")\n",
        "    break\n",
        "  else:\n",
        "    print(\"Prime Number\")\n",
        "    break"
      ],
      "metadata": {
        "colab": {
          "base_uri": "https://localhost:8080/"
        },
        "id": "URWHYsD5z6Wi",
        "outputId": "69d1d6be-6059-40e8-e86d-97ef4b578c43"
      },
      "execution_count": null,
      "outputs": [
        {
          "output_type": "stream",
          "name": "stdout",
          "text": [
            "10\n",
            "Non Prime Number\n"
          ]
        }
      ]
    },
    {
      "cell_type": "markdown",
      "source": [
        "7.Prime Numbers in a Given Interval"
      ],
      "metadata": {
        "id": "hbWMzmTb1Uig"
      }
    },
    {
      "cell_type": "code",
      "source": [
        "n1 = int(input())\n",
        "n2 = int(input())\n",
        "prime = \"\"\n",
        "for i in range(n1, n2):\n",
        "  for j in range(2,i+1):\n",
        "    if i%j != 0:\n",
        "      prime+=str(i)+\" \"\n",
        "      break\n",
        "    else:\n",
        "      break\n",
        "print(prime)"
      ],
      "metadata": {
        "colab": {
          "base_uri": "https://localhost:8080/"
        },
        "id": "0nho5A1B1VeN",
        "outputId": "c1d28792-c8e6-4990-964e-a55e0e92a45b"
      },
      "execution_count": null,
      "outputs": [
        {
          "output_type": "stream",
          "name": "stdout",
          "text": [
            "2\n",
            "10\n",
            "3 5 7 9 \n"
          ]
        }
      ]
    },
    {
      "cell_type": "markdown",
      "source": [
        "8.Sum of the Digits of a Number"
      ],
      "metadata": {
        "id": "IZBSqcf75L7i"
      }
    },
    {
      "cell_type": "code",
      "source": [
        "num = input()\n",
        "sum = 0\n",
        "for i in num:\n",
        "  sum+=int(i)\n",
        "print(sum)"
      ],
      "metadata": {
        "colab": {
          "base_uri": "https://localhost:8080/"
        },
        "id": "zMC4gECB54-y",
        "outputId": "715f4eae-f26f-49a1-b69d-88971fd9ca70"
      },
      "execution_count": null,
      "outputs": [
        {
          "output_type": "stream",
          "name": "stdout",
          "text": [
            "234\n",
            "9\n"
          ]
        }
      ]
    },
    {
      "cell_type": "markdown",
      "source": [
        "9.Reverse of a Number"
      ],
      "metadata": {
        "id": "Qvi0H9K49dkJ"
      }
    },
    {
      "cell_type": "code",
      "source": [
        "num = int(input())\n",
        "reverse = \"\"\n",
        "while num > 0:\n",
        "  digit = num%10\n",
        "  num = num//10\n",
        "  reverse+=str(digit)\n",
        "print(reverse)"
      ],
      "metadata": {
        "colab": {
          "base_uri": "https://localhost:8080/"
        },
        "id": "H6aWAjtA9h0l",
        "outputId": "2f39cb51-7c30-433e-c286-430970f371cf"
      },
      "execution_count": null,
      "outputs": [
        {
          "output_type": "stream",
          "name": "stdout",
          "text": [
            "123\n",
            "321\n"
          ]
        }
      ]
    },
    {
      "cell_type": "markdown",
      "source": [
        "10.Check Whether or Not the Number is a Palindrome"
      ],
      "metadata": {
        "id": "Z6LEkn9l_D1x"
      }
    },
    {
      "cell_type": "code",
      "source": [
        "num = int(input())\n",
        "reverse = \"\"\n",
        "number = str(num)\n",
        "while num > 0:\n",
        "  digit = num%10\n",
        "  num = num//10\n",
        "  reverse+=str(digit)\n",
        "if number == reverse:\n",
        "  print(\"Palindrome\")\n",
        "else:\n",
        "  print(\"Not a Palindrome\")"
      ],
      "metadata": {
        "colab": {
          "base_uri": "https://localhost:8080/"
        },
        "id": "LL2Skq1w__IK",
        "outputId": "60c1b475-adaf-4216-8cb0-5ec0ae5d4dae"
      },
      "execution_count": null,
      "outputs": [
        {
          "output_type": "stream",
          "name": "stdout",
          "text": [
            "1221\n",
            "Palindrome\n"
          ]
        }
      ]
    },
    {
      "cell_type": "markdown",
      "source": [
        "11.Check Whether a Given Number is an Armstrong Number or Not"
      ],
      "metadata": {
        "id": "LTnEVc45FsE9"
      }
    },
    {
      "cell_type": "code",
      "source": [
        "num = int(input())\n",
        "a = len(str(num))\n",
        "number = num\n",
        "arm = 0\n",
        "while num > 0:\n",
        "  digit = num%10\n",
        "  num = num//10\n",
        "  arm += digit**a\n",
        "if arm == number:\n",
        "  print(\"Armstrong Number\")\n",
        "else:\n",
        "  print(\"Not an Armstrong Number\")"
      ],
      "metadata": {
        "colab": {
          "base_uri": "https://localhost:8080/"
        },
        "id": "gToFqpMFG9ci",
        "outputId": "b2c9d1d3-be99-4a55-92dc-6b048f16d547"
      },
      "execution_count": null,
      "outputs": [
        {
          "output_type": "stream",
          "name": "stdout",
          "text": [
            "1634\n",
            "Armstrong Number\n"
          ]
        }
      ]
    },
    {
      "cell_type": "markdown",
      "source": [
        "12.Armstrong Numbers in a given Range"
      ],
      "metadata": {
        "id": "zu0xzoKfKLtp"
      }
    },
    {
      "cell_type": "code",
      "source": [
        "n1 = int(input())\n",
        "n2 = int(input())\n",
        "for i in range(n1, n2):\n",
        "  a = len(str(i))\n",
        "  number = i\n",
        "  arm = 0\n",
        "  temp = i\n",
        "  while temp > 0:\n",
        "    digit = temp%10\n",
        "    temp = temp//10\n",
        "    arm += digit**a\n",
        "  if arm == number:\n",
        "    print(i)"
      ],
      "metadata": {
        "colab": {
          "base_uri": "https://localhost:8080/"
        },
        "id": "_vTbJruQKUlO",
        "outputId": "6be10ad8-7a56-428c-fa5a-7bbb4e98e660"
      },
      "execution_count": null,
      "outputs": [
        {
          "output_type": "stream",
          "name": "stdout",
          "text": [
            "150\n",
            "160\n",
            "153\n"
          ]
        }
      ]
    },
    {
      "cell_type": "markdown",
      "source": [
        " 13.Fibonacci Series up to Nth Term"
      ],
      "metadata": {
        "id": "k8QAySj0GIWo"
      }
    },
    {
      "cell_type": "code",
      "source": [
        "num = int(input())\n",
        "n1, n2 = 0, 1\n",
        "print(\"Fibonacci Series:\" , n1 , n2, end = \" \")\n",
        "for i in range(2,num):\n",
        "  n3 = n1+n2\n",
        "  n1 = n2\n",
        "  n2 = n3\n",
        "  print(n3, end = \" \")\n",
        "print()"
      ],
      "metadata": {
        "colab": {
          "base_uri": "https://localhost:8080/"
        },
        "id": "W9R4A_XFGJbs",
        "outputId": "0a92e692-bc89-4869-a9b8-6e7c2e6b8d61"
      },
      "execution_count": 3,
      "outputs": [
        {
          "output_type": "stream",
          "name": "stdout",
          "text": [
            "10\n",
            "Fibonacci Series: 0 1 1 2 3 5 8 13 21 34 \n"
          ]
        }
      ]
    },
    {
      "cell_type": "markdown",
      "source": [
        "14.Nth Term of the Fibonacci Series"
      ],
      "metadata": {
        "id": "8HkHI1sZHnjr"
      }
    },
    {
      "cell_type": "code",
      "source": [
        "num = int(input())\n",
        "n1, n2 = 0, 1\n",
        "for i in range(2,num):\n",
        "  n3 = n1+n2\n",
        "  n1 = n2\n",
        "  n2 = n3\n",
        "print(n3)"
      ],
      "metadata": {
        "colab": {
          "base_uri": "https://localhost:8080/"
        },
        "id": "_cIyu29DIIax",
        "outputId": "9071dc6d-4355-42a2-e374-3fb735ec46fc"
      },
      "execution_count": 5,
      "outputs": [
        {
          "output_type": "stream",
          "name": "stdout",
          "text": [
            "10\n",
            "34\n"
          ]
        }
      ]
    },
    {
      "cell_type": "markdown",
      "source": [
        "15.Factorial of a number"
      ],
      "metadata": {
        "id": "gEopMPseIxtA"
      }
    },
    {
      "cell_type": "code",
      "source": [
        "n = int(input())\n",
        "fact = 1\n",
        "for i in range(1,n+1):\n",
        "  fact *= i\n",
        "print(fact)"
      ],
      "metadata": {
        "colab": {
          "base_uri": "https://localhost:8080/"
        },
        "id": "eyP_cn_GIzY6",
        "outputId": "5dbd3f05-624f-47f8-a9e2-fb70fc7c6a76"
      },
      "execution_count": 8,
      "outputs": [
        {
          "output_type": "stream",
          "name": "stdout",
          "text": [
            "5\n",
            "120\n"
          ]
        }
      ]
    },
    {
      "cell_type": "markdown",
      "source": [
        "16. Power of a Number"
      ],
      "metadata": {
        "id": "QPMhA1FvKd49"
      }
    },
    {
      "cell_type": "code",
      "source": [
        "base = int(input())\n",
        "power = int(input())\n",
        "print(base**power)"
      ],
      "metadata": {
        "colab": {
          "base_uri": "https://localhost:8080/"
        },
        "id": "8ILmmRiOKfeX",
        "outputId": "28c4ea62-ecc8-4d96-f5de-c5865417b7dd"
      },
      "execution_count": 9,
      "outputs": [
        {
          "output_type": "stream",
          "name": "stdout",
          "text": [
            "2\n",
            "3\n",
            "8\n"
          ]
        }
      ]
    },
    {
      "cell_type": "markdown",
      "source": [
        "17.Factors of a Number"
      ],
      "metadata": {
        "id": "Lxy9mlUeLs6c"
      }
    },
    {
      "cell_type": "code",
      "source": [
        "num = int(input())\n",
        "factors = \"\"\n",
        "for i in range(2,num):\n",
        "  if num%i == 0:\n",
        "    factors+=str(i)+\" \"\n",
        "print(factors)"
      ],
      "metadata": {
        "colab": {
          "base_uri": "https://localhost:8080/"
        },
        "id": "o3TzK92qOKcm",
        "outputId": "d57d35f6-74a6-4353-d1da-0581eddfea6a"
      },
      "execution_count": 15,
      "outputs": [
        {
          "output_type": "stream",
          "name": "stdout",
          "text": [
            "10\n",
            "2 5 \n"
          ]
        }
      ]
    },
    {
      "cell_type": "markdown",
      "source": [
        "18.Check Whether or Not the Number is a Strong Number"
      ],
      "metadata": {
        "id": "CiE1gYgaP3yx"
      }
    },
    {
      "cell_type": "code",
      "source": [
        "num = int(input())\n",
        "number = num\n",
        "result = 0\n",
        "while num > 0:\n",
        "  digit = num%10\n",
        "  num = num//10\n",
        "  value = 1\n",
        "  for i in range(1,digit+1):\n",
        "    value = value * i\n",
        "  result += value\n",
        "if number == result:\n",
        "  print(\"It's a Strong Number\")\n",
        "else:\n",
        "  print(\"It's not a Strong Number\")"
      ],
      "metadata": {
        "colab": {
          "base_uri": "https://localhost:8080/"
        },
        "id": "MMN17Ju-Rtdr",
        "outputId": "45a45daf-eb85-4585-f5bb-c942909e1842"
      },
      "execution_count": 25,
      "outputs": [
        {
          "output_type": "stream",
          "name": "stdout",
          "text": [
            "145\n",
            "It's a Strong Number\n"
          ]
        }
      ]
    },
    {
      "cell_type": "markdown",
      "source": [
        "19.Perfect Number"
      ],
      "metadata": {
        "id": "Exx2mdIQUau6"
      }
    },
    {
      "cell_type": "code",
      "source": [
        "num = int(input())\n",
        "factors = []\n",
        "for i in range(1,num):\n",
        "  if num%i == 0:\n",
        "    factors.append(i)\n",
        "print(factors)\n",
        "sum = 0\n",
        "for j in factors:\n",
        "  sum = sum + j\n",
        "if sum == num:\n",
        "  print(\"Perfect Number\")\n",
        "else:\n",
        "  print(\"Not a Perfect Number\")"
      ],
      "metadata": {
        "colab": {
          "base_uri": "https://localhost:8080/"
        },
        "id": "rrE05cXlVOzu",
        "outputId": "44916ed2-c673-4aa5-ee5f-20d55faa0cb9"
      },
      "execution_count": 29,
      "outputs": [
        {
          "output_type": "stream",
          "name": "stdout",
          "text": [
            "28\n",
            "[1, 2, 4, 7, 14]\n",
            "Perfect Number\n"
          ]
        }
      ]
    },
    {
      "cell_type": "markdown",
      "source": [
        "20.Automorphic number"
      ],
      "metadata": {
        "id": "aKUIaw6nX9r4"
      }
    },
    {
      "cell_type": "code",
      "source": [
        "num = int(input())\n",
        "square = num**2\n",
        "mod = pow(10 ,len(str(num)))\n",
        "if square%mod == num:\n",
        "  print(\"Automorphic Number\")\n",
        "else:\n",
        "  print(\"Not an Automorphic Number\")"
      ],
      "metadata": {
        "colab": {
          "base_uri": "https://localhost:8080/"
        },
        "id": "h9d8wGSGYRV4",
        "outputId": "d79fdb3c-c3e6-4b17-b8fc-56f336349eb7"
      },
      "execution_count": 32,
      "outputs": [
        {
          "output_type": "stream",
          "name": "stdout",
          "text": [
            "376\n",
            "Automorphic Number\n"
          ]
        }
      ]
    },
    {
      "cell_type": "markdown",
      "source": [
        "21.Harshad number"
      ],
      "metadata": {
        "id": "z33b4FrVaCcR"
      }
    },
    {
      "cell_type": "code",
      "source": [
        "num = int(input())\n",
        "number = num\n",
        "denominator = 0\n",
        "while num > 0:\n",
        "  digit = num%10\n",
        "  num = num//10\n",
        "  denominator += digit\n",
        "print(number//denominator)"
      ],
      "metadata": {
        "colab": {
          "base_uri": "https://localhost:8080/"
        },
        "id": "avaYDbAdbMwc",
        "outputId": "7a4514fd-ff1c-4812-b329-87b0328c1185"
      },
      "execution_count": 35,
      "outputs": [
        {
          "output_type": "stream",
          "name": "stdout",
          "text": [
            "408\n",
            "34\n"
          ]
        }
      ]
    },
    {
      "cell_type": "markdown",
      "source": [
        "22.Abundant Number"
      ],
      "metadata": {
        "id": "cAunXnsib7y3"
      }
    },
    {
      "cell_type": "code",
      "source": [
        "num = int(input())\n",
        "sum_of_factors = 0\n",
        "for i in range(1,num):\n",
        "  if num%i == 0:\n",
        "    sum_of_factors += i\n",
        "if sum_of_factors > num:\n",
        "  print(\"Abundant Number\")\n",
        "else:\n",
        "  print(\"Not an Abundant Number\")"
      ],
      "metadata": {
        "colab": {
          "base_uri": "https://localhost:8080/"
        },
        "id": "93XfXNkhcH1N",
        "outputId": "7587efb5-ee1a-4640-c122-61d7eb10102d"
      },
      "execution_count": 37,
      "outputs": [
        {
          "output_type": "stream",
          "name": "stdout",
          "text": [
            "21\n",
            "Not an Abundant Number\n"
          ]
        }
      ]
    },
    {
      "cell_type": "markdown",
      "source": [
        "23.Friendly Pairs"
      ],
      "metadata": {
        "id": "t1hPqHlFdTdG"
      }
    },
    {
      "cell_type": "code",
      "source": [
        "num1 = int(input())\n",
        "num2 = int(input())\n",
        "sum_of_factors1 = 0\n",
        "sum_of_factors2 = 0\n",
        "for i in range(1,num1):\n",
        "  if num1%i == 0:\n",
        "    sum_of_factors1 += i\n",
        "for i in range(1,num2):\n",
        "  if num2%i == 0:\n",
        "    sum_of_factors2 += i\n",
        "if (sum_of_factors1//num1)==(sum_of_factors2//num2):\n",
        "  print(\"Friendly Pairs\")\n",
        "else:\n",
        "  print(\"Not Friendly Pairs\")"
      ],
      "metadata": {
        "colab": {
          "base_uri": "https://localhost:8080/"
        },
        "id": "-Phw_NI7dlFF",
        "outputId": "8021aa0d-b10a-4bd7-aa83-696ef09cdf4e"
      },
      "execution_count": 40,
      "outputs": [
        {
          "output_type": "stream",
          "name": "stdout",
          "text": [
            "6\n",
            "28\n",
            "Friendly Pairs\n"
          ]
        }
      ]
    },
    {
      "cell_type": "markdown",
      "source": [
        "24.Prime Factors"
      ],
      "metadata": {
        "id": "SnZ1_g0WFRFR"
      }
    },
    {
      "cell_type": "code",
      "source": [
        "num = int(input())\n",
        "factors = []\n",
        "for i in range(2,num):\n",
        "  if num%i == 0:\n",
        "    factors.append(i)\n",
        "prime_factors = \"\"\n",
        "for i in factors:\n",
        "  for j in range(2,i):\n",
        "    if i%j == 0:\n",
        "      break\n",
        "  else:\n",
        "    prime_factors+=str(i)+\" \"\n",
        "print(prime_factors)"
      ],
      "metadata": {
        "colab": {
          "base_uri": "https://localhost:8080/"
        },
        "id": "-0-obEblFYM3",
        "outputId": "54cffd10-99d8-4e77-dacd-15cd946174cb"
      },
      "execution_count": 8,
      "outputs": [
        {
          "output_type": "stream",
          "name": "stdout",
          "text": [
            "210\n",
            "2 3 5 7 \n"
          ]
        }
      ]
    },
    {
      "cell_type": "markdown",
      "source": [
        "25.Perfect Square"
      ],
      "metadata": {
        "id": "-xOB9htMH_tg"
      }
    },
    {
      "cell_type": "code",
      "source": [
        "num = int(input())\n",
        "for i in range(1,num):\n",
        "  if i**2 == num:\n",
        "    print(\"Perfect Square\")\n",
        "    break\n",
        "else:\n",
        "  print(\"Not a Perfect Square\")"
      ],
      "metadata": {
        "colab": {
          "base_uri": "https://localhost:8080/"
        },
        "id": "Auys-RZ7IXYu",
        "outputId": "41b6638f-6112-4752-c691-931a953dbefa"
      },
      "execution_count": 14,
      "outputs": [
        {
          "output_type": "stream",
          "name": "stdout",
          "text": [
            "49\n",
            "Perfect Square\n"
          ]
        }
      ]
    }
  ]
}