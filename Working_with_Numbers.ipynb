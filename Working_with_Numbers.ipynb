{
  "nbformat": 4,
  "nbformat_minor": 0,
  "metadata": {
    "colab": {
      "provenance": [],
      "authorship_tag": "ABX9TyOiAe7wYj30KXHFDH73e+Xx",
      "include_colab_link": true
    },
    "kernelspec": {
      "name": "python3",
      "display_name": "Python 3"
    },
    "language_info": {
      "name": "python"
    }
  },
  "cells": [
    {
      "cell_type": "markdown",
      "metadata": {
        "id": "view-in-github",
        "colab_type": "text"
      },
      "source": [
        "<a href=\"https://colab.research.google.com/github/RoshniK-23/Basic-Python-Programs/blob/main/Working_with_Numbers.ipynb\" target=\"_parent\"><img src=\"https://colab.research.google.com/assets/colab-badge.svg\" alt=\"Open In Colab\"/></a>"
      ]
    },
    {
      "cell_type": "markdown",
      "source": [
        " **Working with Numbers**\n"
      ],
      "metadata": {
        "id": "JS0YmLt7MKZZ"
      }
    },
    {
      "cell_type": "markdown",
      "source": [
        "1.Highest Common Factor(HCF):"
      ],
      "metadata": {
        "id": "YQn1qSmfMXSb"
      }
    },
    {
      "cell_type": "code",
      "source": [
        "num1 = int(input())\n",
        "num2 = int(input())\n",
        "hcf = 1\n",
        "for i in range(1,min(num1,num2)):\n",
        "  if num1%i == 0 and num2%i == 0:\n",
        "    hcf = i\n",
        "print(f'Hcf of {num1} and {num2} is {hcf}')"
      ],
      "metadata": {
        "colab": {
          "base_uri": "https://localhost:8080/"
        },
        "id": "QN_bbNKHNK_1",
        "outputId": "55095950-b605-4e79-e220-bba63ae90856"
      },
      "execution_count": null,
      "outputs": [
        {
          "output_type": "stream",
          "name": "stdout",
          "text": [
            "36\n",
            "60\n",
            "Hcf of 36 and 60 is 12\n"
          ]
        }
      ]
    },
    {
      "cell_type": "markdown",
      "source": [
        "2.Lowest Common Multiple (LCM) :"
      ],
      "metadata": {
        "id": "qG3QaNcRQ6-2"
      }
    },
    {
      "cell_type": "code",
      "source": [
        "num1 = int(input())\n",
        "num2 = int(input())\n",
        "lcm = 1\n",
        "for i in range(max(num1,num2),1+(num1*num2)):\n",
        "  if i%num1 == 0 and i%num2 == 0:\n",
        "    lcm = i\n",
        "    break\n",
        "print(f'Lcm of {num1} and {num2} is {lcm}')"
      ],
      "metadata": {
        "colab": {
          "base_uri": "https://localhost:8080/"
        },
        "id": "cxOY_XNER0zp",
        "outputId": "462fa679-1039-4222-9caf-fbbcc5590e6f"
      },
      "execution_count": null,
      "outputs": [
        {
          "output_type": "stream",
          "name": "stdout",
          "text": [
            "12\n",
            "14\n",
            "Lcm of 12 and 14 is 84\n"
          ]
        }
      ]
    },
    {
      "cell_type": "markdown",
      "source": [
        "3.Greatest Common Divisor :"
      ],
      "metadata": {
        "id": "PYVYhFymSrHg"
      }
    },
    {
      "cell_type": "code",
      "source": [
        "num1 = int(input())\n",
        "num2 = int(input())\n",
        "gcd = 1\n",
        "for i in range(1,min(num1,num2)):\n",
        "  if num1%i == 0 and num2%i == 0:\n",
        "    gcd = i\n",
        "print(f'Gcd of {num1} and {num2} is {gcd}')"
      ],
      "metadata": {
        "colab": {
          "base_uri": "https://localhost:8080/"
        },
        "id": "_qsjPWdy1S1q",
        "outputId": "a31252be-2d67-4767-e21c-3815e255974c"
      },
      "execution_count": null,
      "outputs": [
        {
          "output_type": "stream",
          "name": "stdout",
          "text": [
            "36\n",
            "60\n",
            "Gcd of 36 and 60 is 12\n"
          ]
        }
      ]
    },
    {
      "cell_type": "markdown",
      "source": [
        "4.Binary to Decimal to conversion :"
      ],
      "metadata": {
        "id": "ub7UZYc13DmV"
      }
    },
    {
      "cell_type": "code",
      "source": [
        "binary = input(\"Enter a binary number:\" )\n",
        "decimal = int(binary,2)\n",
        "print(f'Decimal value for {binary} is {decimal}')"
      ],
      "metadata": {
        "colab": {
          "base_uri": "https://localhost:8080/"
        },
        "id": "SO701WrN3Y2v",
        "outputId": "29b42ac7-4e97-4ba3-d911-ddf2eb1cc192"
      },
      "execution_count": null,
      "outputs": [
        {
          "output_type": "stream",
          "name": "stdout",
          "text": [
            "Enter a binary number:1010\n",
            "Decimal value for 1010 is 10\n"
          ]
        }
      ]
    },
    {
      "cell_type": "markdown",
      "source": [
        "5.Octal to Decimal conversion :"
      ],
      "metadata": {
        "id": "xhmlqi-I6ilb"
      }
    },
    {
      "cell_type": "code",
      "source": [
        "octal = input(\"Enter a octal number:\" )\n",
        "decimal = int(octal,8)\n",
        "print(f'Decimal value for {octal} is {decimal}')"
      ],
      "metadata": {
        "colab": {
          "base_uri": "https://localhost:8080/"
        },
        "id": "RCTPjoYs6roc",
        "outputId": "2570a6a9-13d5-4157-ee35-2ad8933ce127"
      },
      "execution_count": null,
      "outputs": [
        {
          "output_type": "stream",
          "name": "stdout",
          "text": [
            "Enter a octal number:512\n",
            "Decimal value for 512 is 330\n"
          ]
        }
      ]
    },
    {
      "cell_type": "markdown",
      "source": [
        "6.Hexadecimal to Decimal conversion:"
      ],
      "metadata": {
        "id": "-yxULL8-7bam"
      }
    },
    {
      "cell_type": "code",
      "source": [
        "hexadecimal = input(\"Enter a hexadecimal number:\" )\n",
        "decimal = int(hexadecimal,16)\n",
        "print(f'Decimal value for {hexadecimal} is {decimal}')"
      ],
      "metadata": {
        "colab": {
          "base_uri": "https://localhost:8080/"
        },
        "id": "8nFMfITH7kzu",
        "outputId": "9599a68a-6f31-4d9c-f19f-bc1e5e8a8fbe"
      },
      "execution_count": null,
      "outputs": [
        {
          "output_type": "stream",
          "name": "stdout",
          "text": [
            "Enter a hexadecimal number:C9\n",
            "Decimal value for C9 is 201\n"
          ]
        }
      ]
    },
    {
      "cell_type": "markdown",
      "source": [
        "7.Decimal to Binary conversion:"
      ],
      "metadata": {
        "id": "a6rnYKxU8Pux"
      }
    },
    {
      "cell_type": "code",
      "source": [
        "decimal = int(input(\"Enter a decimal:\" ))\n",
        "binary = f'{decimal:b}'\n",
        "print(f'Binary value for {decimal} is {binary}')"
      ],
      "metadata": {
        "colab": {
          "base_uri": "https://localhost:8080/"
        },
        "id": "ZJqsnJ4_8aM5",
        "outputId": "383cd270-6f92-4493-8d4d-93beab3869c0"
      },
      "execution_count": null,
      "outputs": [
        {
          "output_type": "stream",
          "name": "stdout",
          "text": [
            "Enter a decimal:21\n",
            "Binary value for 21 is 10101\n"
          ]
        }
      ]
    },
    {
      "cell_type": "markdown",
      "source": [
        "8.Decimal to Octal Conversion:"
      ],
      "metadata": {
        "id": "raUgR6fe9bP9"
      }
    },
    {
      "cell_type": "code",
      "source": [
        "decimal = int(input(\"Enter a decimal:\" ))\n",
        "octal = f'{decimal:o}'\n",
        "print(f'Binary value for {decimal} is {octal}')"
      ],
      "metadata": {
        "colab": {
          "base_uri": "https://localhost:8080/"
        },
        "id": "NJMVe2OP9hLx",
        "outputId": "9e50ae07-3ab2-44f2-b0d1-64cbf21c6bc6"
      },
      "execution_count": null,
      "outputs": [
        {
          "output_type": "stream",
          "name": "stdout",
          "text": [
            "Enter a decimal:148\n",
            "Binary value for 148 is 224\n"
          ]
        }
      ]
    },
    {
      "cell_type": "markdown",
      "source": [
        "9.Decimal to Hexadecimal Conversion:"
      ],
      "metadata": {
        "id": "wYX0YNBv-MzX"
      }
    },
    {
      "cell_type": "code",
      "source": [
        "decimal = int(input(\"Enter a decimal:\" ))\n",
        "hexadecimal = f'{decimal:x}'\n",
        "print(f'Binary value for {decimal} is {hexadecimal}')"
      ],
      "metadata": {
        "colab": {
          "base_uri": "https://localhost:8080/"
        },
        "id": "kMW0PQyv-qPt",
        "outputId": "9180691a-8c9c-4fe2-ba72-4766d7d65dd2"
      },
      "execution_count": null,
      "outputs": [
        {
          "output_type": "stream",
          "name": "stdout",
          "text": [
            "Enter a decimal:2545\n",
            "Binary value for 2545 is 9f1\n"
          ]
        }
      ]
    },
    {
      "cell_type": "markdown",
      "source": [
        "10.Binary to Octal conversion :"
      ],
      "metadata": {
        "id": "lOhmJjLb_IHl"
      }
    },
    {
      "cell_type": "code",
      "source": [
        "binary = input(\"Enter a binary number:\" )\n",
        "decimal = int(binary,2)\n",
        "octal = f'{decimal:o}'\n",
        "print(f'Octal value for {binary} is {octal}')"
      ],
      "metadata": {
        "colab": {
          "base_uri": "https://localhost:8080/"
        },
        "id": "MpUpp_gV_Nm-",
        "outputId": "42133c9a-4d7c-4eaf-feed-8d1cd667cc74"
      },
      "execution_count": null,
      "outputs": [
        {
          "output_type": "stream",
          "name": "stdout",
          "text": [
            "Enter a binary number:1010\n",
            "Octal value for 1010 is 12\n"
          ]
        }
      ]
    },
    {
      "cell_type": "markdown",
      "source": [
        "11.Octal to Binary conversion :"
      ],
      "metadata": {
        "id": "DhSW4yCcAL2W"
      }
    },
    {
      "cell_type": "code",
      "source": [
        "octal = input(\"Enter a octal number:\" )\n",
        "decimal = int(octal,8)\n",
        "binary = f'{decimal:b}'\n",
        "print(f'Binary value for {octal} is {binary}')"
      ],
      "metadata": {
        "colab": {
          "base_uri": "https://localhost:8080/"
        },
        "id": "bLQbiuBkAfuT",
        "outputId": "234c1a95-a2f2-42d1-b85e-146a019efbd3"
      },
      "execution_count": null,
      "outputs": [
        {
          "output_type": "stream",
          "name": "stdout",
          "text": [
            "Enter a octal number:12\n",
            "Binary value for 12 is 1010\n"
          ]
        }
      ]
    },
    {
      "cell_type": "markdown",
      "source": [
        "12.Quadrants in which a given coordinate lies :"
      ],
      "metadata": {
        "id": "X7FBLKnEBShI"
      }
    },
    {
      "cell_type": "code",
      "source": [
        "x = int(input())\n",
        "y = int(input())\n",
        "if x>0 and y>0:\n",
        "  print(\"First Quadrant\")\n",
        "elif x<0 and y>0:\n",
        "  print(\"Second Quadrant\")\n",
        "elif x<0 and y<0:\n",
        "  print(\"Third Quadrant\")\n",
        "elif x>0 and y<0:\n",
        "  print(\"Fourth Quadrant\")\n",
        "elif x==0 and y==0:\n",
        "  print(\"Origin\")\n",
        "elif x!=0 and y==0:\n",
        "  print(\"On X-axis\")\n",
        "elif x==0 and y!=0:\n",
        "  print(\"On Y-axis\")"
      ],
      "metadata": {
        "colab": {
          "base_uri": "https://localhost:8080/"
        },
        "id": "hhgJtFL9BeR-",
        "outputId": "52503c0d-a6ba-45fd-d975-cbe688c7556f"
      },
      "execution_count": null,
      "outputs": [
        {
          "output_type": "stream",
          "name": "stdout",
          "text": [
            "-3\n",
            "-33\n",
            "Third Quadrant\n"
          ]
        }
      ]
    },
    {
      "cell_type": "markdown",
      "source": [
        "13.Permutations in which n people can occupy r seats in a classroom :"
      ],
      "metadata": {
        "id": "9xu1RTP1EynN"
      }
    },
    {
      "cell_type": "code",
      "source": [
        "N = int(input())\n",
        "R = int(input())\n",
        "def fact(N):\n",
        "  value = 1\n",
        "  for i in range(1,N+1):\n",
        "    value = value * i\n",
        "  return value\n",
        "print(fact(N)//fact(N-R))"
      ],
      "metadata": {
        "colab": {
          "base_uri": "https://localhost:8080/"
        },
        "id": "ne0cEOR-E7Pv",
        "outputId": "92365e9d-9b47-483e-ae3f-0c580245eb74"
      },
      "execution_count": null,
      "outputs": [
        {
          "output_type": "stream",
          "name": "stdout",
          "text": [
            "10\n",
            "6\n",
            "151200\n"
          ]
        }
      ]
    },
    {
      "cell_type": "markdown",
      "source": [
        "14.Maximum number of handshakes:"
      ],
      "metadata": {
        "id": "6GSKbVSTIb9_"
      }
    },
    {
      "cell_type": "code",
      "source": [
        "N = int(input())\n",
        "No_of_handshakes = (N * ((N-1)/2))\n",
        "print(No_of_handshakes)"
      ],
      "metadata": {
        "colab": {
          "base_uri": "https://localhost:8080/"
        },
        "id": "7m6r-wp5I32O",
        "outputId": "2a96b7a2-f0e0-4241-f5f5-7e2113e51a7a"
      },
      "execution_count": null,
      "outputs": [
        {
          "output_type": "stream",
          "name": "stdout",
          "text": [
            "30\n",
            "435.0\n"
          ]
        }
      ]
    },
    {
      "cell_type": "markdown",
      "source": [
        "15.Addition of two fractions:"
      ],
      "metadata": {
        "id": "Zoq-q8ehKQLs"
      }
    },
    {
      "cell_type": "code",
      "source": [
        "from fractions import Fraction\n",
        "Frac1 = Fraction(input(\"Enter a fraction1 :\"))\n",
        "Frac2 = Fraction(input(\"Enter a fraction2 :\"))\n",
        "result = Frac1 + Frac2\n",
        "print(f'Sum of fractions : {result}')"
      ],
      "metadata": {
        "colab": {
          "base_uri": "https://localhost:8080/"
        },
        "id": "-c-iMYFtKauS",
        "outputId": "64d126c6-8158-4249-843a-c08443d95c72"
      },
      "execution_count": null,
      "outputs": [
        {
          "output_type": "stream",
          "name": "stdout",
          "text": [
            "Enter a fraction1 :14/10\n",
            "Enter a fraction2 :24/3\n",
            "Sum of fractions : 47/5\n"
          ]
        }
      ]
    },
    {
      "cell_type": "markdown",
      "source": [
        "16.Replace all 0’s with 1 in a given integer :"
      ],
      "metadata": {
        "id": "Jv4BQvBlN7q-"
      }
    },
    {
      "cell_type": "code",
      "source": [
        "num = input()\n",
        "r = \"\"\n",
        "for i in num:\n",
        "  if i == '0':\n",
        "    i = '1'\n",
        "  r = r + i\n",
        "print(r)"
      ],
      "metadata": {
        "colab": {
          "base_uri": "https://localhost:8080/"
        },
        "id": "QH17mDn6QJXu",
        "outputId": "114eb15d-dad7-4479-a0fb-31dd3065b601"
      },
      "execution_count": null,
      "outputs": [
        {
          "output_type": "stream",
          "name": "stdout",
          "text": [
            "12090\n",
            "12191\n"
          ]
        }
      ]
    },
    {
      "cell_type": "markdown",
      "source": [
        "17.Can a number be expressed as a sum of two prime numbers :"
      ],
      "metadata": {
        "id": "xcg2fnmXRcXZ"
      }
    },
    {
      "cell_type": "code",
      "source": [
        "num = int(input())\n",
        "primes = []\n",
        "for i in range(2,num):\n",
        "  is_prime = True\n",
        "  for j in range(2,i):\n",
        "    if i%j==0:\n",
        "      is_prime = False\n",
        "      break\n",
        "  if is_prime:\n",
        "    primes.append(i)\n",
        "\n",
        "for i in range(len(primes)):\n",
        "  for j in range(i+1,len(primes)):\n",
        "    if primes[i] + primes[j] == num:\n",
        "      print(f'{primes[i]} + {primes[j]} = {num}')\n",
        "      break\n",
        "  if primes[i] + primes[j] == num:\n",
        "    break"
      ],
      "metadata": {
        "colab": {
          "base_uri": "https://localhost:8080/"
        },
        "id": "VlpdFeF_RpJ5",
        "outputId": "daa8dd8f-2590-4c40-8b56-32c73b0a04b7"
      },
      "execution_count": null,
      "outputs": [
        {
          "output_type": "stream",
          "name": "stdout",
          "text": [
            "15\n",
            "2 + 13 = 15\n"
          ]
        }
      ]
    },
    {
      "cell_type": "markdown",
      "source": [
        "18.Count possible decoding of a given digit sequence :"
      ],
      "metadata": {
        "id": "Pnoz8ao6T-Jn"
      }
    },
    {
      "cell_type": "code",
      "source": [
        "def decoding(digits):\n",
        "  if not digits or digits[0] == 0:\n",
        "    return 0\n",
        "  prev,curr = 1,1\n",
        "  for i in range(1,len(digits)):\n",
        "    temp = 0\n",
        "    if digits[i] != '0':\n",
        "      temp = curr\n",
        "    else:\n",
        "      0\n",
        "    if '10'<=digits[i-1:i+1]<='26':\n",
        "      temp+=prev\n",
        "    prev,curr = curr,temp\n",
        "  return curr\n",
        "sequence = input(\"Enter a sequence of digits:\")\n",
        "print(f'No.of possible decodes:{decoding(sequence)}')"
      ],
      "metadata": {
        "colab": {
          "base_uri": "https://localhost:8080/"
        },
        "id": "N9U1fkqlULMY",
        "outputId": "e3f6d709-979a-4308-809b-78344e4d5f8e"
      },
      "execution_count": null,
      "outputs": [
        {
          "output_type": "stream",
          "name": "stdout",
          "text": [
            "Enter a sequence of digits:131\n",
            "No.of possible decodes:2\n"
          ]
        }
      ]
    },
    {
      "cell_type": "markdown",
      "source": [
        "19.Calculate the area of a circle :"
      ],
      "metadata": {
        "id": "SnXuLA8pd1xD"
      }
    },
    {
      "cell_type": "code",
      "source": [
        "from math import pi\n",
        "radius = int(input(\"Enter the radius:\"))\n",
        "area = pi*radius*radius\n",
        "print(f'The area of circle is {area}')"
      ],
      "metadata": {
        "colab": {
          "base_uri": "https://localhost:8080/"
        },
        "id": "2iBJjlbdeCJl",
        "outputId": "5040e397-6714-45c3-b88d-4119a58ceb00"
      },
      "execution_count": null,
      "outputs": [
        {
          "output_type": "stream",
          "name": "stdout",
          "text": [
            "Enter the radius:3\n",
            "The area of circle is 28.274333882308138\n"
          ]
        }
      ]
    },
    {
      "cell_type": "markdown",
      "source": [
        "20.Find the prime numbers between 1 to 100 :"
      ],
      "metadata": {
        "id": "tBsmh7DOfEqB"
      }
    },
    {
      "cell_type": "code",
      "source": [
        "primes = []\n",
        "for i in range(2,100):\n",
        "  is_prime = True\n",
        "  for j in range(2,i):\n",
        "    if i%j == 0:\n",
        "      is_prime = False\n",
        "      break\n",
        "  if is_prime:\n",
        "    primes.append(i)\n",
        "print(f\"Prime Numbers between 1 to 100 are {primes}\")"
      ],
      "metadata": {
        "colab": {
          "base_uri": "https://localhost:8080/"
        },
        "id": "58Vvbf4zfRd_",
        "outputId": "23cede55-283f-4901-e1fe-32a64a9f6e46"
      },
      "execution_count": null,
      "outputs": [
        {
          "output_type": "stream",
          "name": "stdout",
          "text": [
            "Prime Numbers between 1 to 100 are [2, 3, 5, 7, 11, 13, 17, 19, 23, 29, 31, 37, 41, 43, 47, 53, 59, 61, 67, 71, 73, 79, 83, 89, 97]\n"
          ]
        }
      ]
    },
    {
      "cell_type": "markdown",
      "source": [
        "21.Calculate the number of digits in an integer :"
      ],
      "metadata": {
        "id": "NpVkbiyThRmw"
      }
    },
    {
      "cell_type": "code",
      "source": [
        "num = int(input())\n",
        "print(f'The number of digits in an integer: {len(str(num))}')"
      ],
      "metadata": {
        "colab": {
          "base_uri": "https://localhost:8080/"
        },
        "id": "cUGL3IDshS8r",
        "outputId": "8e4a0c09-e54a-445b-d1bb-d6c0f6a43757"
      },
      "execution_count": null,
      "outputs": [
        {
          "output_type": "stream",
          "name": "stdout",
          "text": [
            "16987\n",
            "The number of digits in an integer: 5\n"
          ]
        }
      ]
    },
    {
      "cell_type": "code",
      "source": [
        "num = int(input())\n",
        "count = 0\n",
        "while num > 0:\n",
        "  digit = num%10\n",
        "  num = num//10\n",
        "  count += 1\n",
        "print(f'The number of digits in an integer: {count}')"
      ],
      "metadata": {
        "colab": {
          "base_uri": "https://localhost:8080/"
        },
        "id": "Jaa5JaSSi43z",
        "outputId": "7e06563f-b5c5-4578-a60f-211d8be72c47"
      },
      "execution_count": null,
      "outputs": [
        {
          "output_type": "stream",
          "name": "stdout",
          "text": [
            "16987\n",
            "The number of digits in an integer: 5\n"
          ]
        }
      ]
    },
    {
      "cell_type": "markdown",
      "source": [
        "22.Convert digit/number to words :"
      ],
      "metadata": {
        "id": "GBnTnWTcjMfo"
      }
    },
    {
      "cell_type": "code",
      "source": [
        "def number_to_words(num):\n",
        "  ones = [\"\",\"one\",\"Two\",\"Three\",\"Four\",\"Five\",\"Six\",\"Seven\",\"Eight\",\"Nine\"]\n",
        "  Teens = [\"Ten\",\"Eleven\",\"Twelve\",\"Thirteen\",\"Fourteen\",\"Fifteen\",\"Sixteen\",\"Seventeen\",\"Eighteen\",\"Nineteen\"]\n",
        "  Tens = [\"\",\"\",\"Twenty\",\"Thirty\",\"Fourty\",\"Fifty\",\"Sixty\",\"Seventy\",\"Eighty\",\"Ninety\"]\n",
        "\n",
        "  if num == 0:\n",
        "    return \"Zero\"\n",
        "  words = \"\"\n",
        "\n",
        "  if num>= 1000:\n",
        "    words += ones[num//1000] + \" \" + \"Thousand\" + \" \"\n",
        "    num%=1000\n",
        "\n",
        "  if num>= 100:\n",
        "    words += ones[num//100] + \" \" + \"Hundred\" + \" \"\n",
        "    num%=100\n",
        "\n",
        "  if num>= 20:\n",
        "    words += Tens[num//10] + \" \"\n",
        "    num%=10\n",
        "\n",
        "  if num>= 10:\n",
        "    words += Teens[num - 10] + \" \"\n",
        "  elif num>0:\n",
        "    words += ones[num] + \" \"\n",
        "\n",
        "  return words.strip()\n",
        "\n",
        "num = int(input(\"Enter a number:\"))\n",
        "print(number_to_words(num))"
      ],
      "metadata": {
        "colab": {
          "base_uri": "https://localhost:8080/"
        },
        "id": "WVLmtAbIjacR",
        "outputId": "9485d651-6b75-43c7-8ebd-7607a42040b3"
      },
      "execution_count": null,
      "outputs": [
        {
          "output_type": "stream",
          "name": "stdout",
          "text": [
            "Enter a number:5678\n",
            "Five Thousand Six Hundred Seventy Eight\n"
          ]
        }
      ]
    },
    {
      "cell_type": "markdown",
      "source": [
        "23.Counting number of days in a given month of a year:"
      ],
      "metadata": {
        "id": "iGsifTPJ0LUr"
      }
    },
    {
      "cell_type": "code",
      "source": [
        "month = int(input())\n",
        "year = int(input())\n",
        "if month == 2:\n",
        "  if(year%4 == 0 and year%100 != 0) or year%400 == 0:\n",
        "    print(\"Number of days = 29\")\n",
        "  else:\n",
        "    print(\"Number of days = 28\")\n",
        "elif month == 1 or month == 3 or month == 5 or month == 7 or month == 8 or month == 10 or month == 12:\n",
        "  print(\"Number of days = 31\")\n",
        "else:\n",
        "  print(\"Number of days = 30\")"
      ],
      "metadata": {
        "id": "TtwwpC1t0Lkh",
        "colab": {
          "base_uri": "https://localhost:8080/"
        },
        "outputId": "77122c8e-a66f-41ae-d280-ec5b20d1c91b"
      },
      "execution_count": 2,
      "outputs": [
        {
          "output_type": "stream",
          "name": "stdout",
          "text": [
            "12\n",
            "2012\n",
            "Number of days = 31\n"
          ]
        }
      ]
    },
    {
      "cell_type": "markdown",
      "source": [
        "24.Finding Number of times x digit occurs in a given input :"
      ],
      "metadata": {
        "id": "RNk3oIE3KInT"
      }
    },
    {
      "cell_type": "code",
      "source": [
        "Num = int(input(\"Enter a number : \"))\n",
        "digit = int(input(\"Enter a digit : \"))\n",
        "print(str(Num).count(str(digit)))"
      ],
      "metadata": {
        "colab": {
          "base_uri": "https://localhost:8080/"
        },
        "id": "S73oL-3vK0IN",
        "outputId": "ee230ede-c00d-4353-f051-cd06a93174ea"
      },
      "execution_count": 5,
      "outputs": [
        {
          "output_type": "stream",
          "name": "stdout",
          "text": [
            "Enter a number : 897982\n",
            "Enter a digit : 9\n",
            "2\n"
          ]
        }
      ]
    },
    {
      "cell_type": "markdown",
      "source": [
        "25.Finding number of integers which has exactly x divisors:"
      ],
      "metadata": {
        "id": "dt9zJYF8NP5f"
      }
    },
    {
      "cell_type": "code",
      "source": [
        "Number = int(input(\"Enter a number: \"))\n",
        "divisor = int(input(\"Enter a divisor: \"))\n",
        "count = 0\n",
        "for i in range(1,Number+1):\n",
        "  count_factors = 0\n",
        "  for j in range(1,i+1):\n",
        "    if i%j == 0:\n",
        "      count_factors += 1\n",
        "    else:\n",
        "      pass\n",
        "  if count_factors == divisor:\n",
        "    count += 1\n",
        "print(count)"
      ],
      "metadata": {
        "colab": {
          "base_uri": "https://localhost:8080/"
        },
        "id": "8mHCLm1xNgEd",
        "outputId": "7d550945-8895-4aff-d66a-a47a6a4fe237"
      },
      "execution_count": 11,
      "outputs": [
        {
          "output_type": "stream",
          "name": "stdout",
          "text": [
            "Enter a number: 7\n",
            "Enter a divisor: 2\n",
            "4\n"
          ]
        }
      ]
    },
    {
      "cell_type": "markdown",
      "source": [
        "26.Finding Roots of a quadratic equation :"
      ],
      "metadata": {
        "id": "-TfJiEy9TUWd"
      }
    },
    {
      "cell_type": "code",
      "source": [
        "def roots(a,b,c):\n",
        "  if a == 0:\n",
        "    return -1\n",
        "\n",
        "  D = b*b-4*a*c\n",
        "  sqrt_D = D**0.5\n",
        "\n",
        "  if D > 0:\n",
        "    print(\"The roots are real and different\")\n",
        "    print(-b+sqrt_D/(2*a))\n",
        "    print(-b-sqrt_D/(2*a))\n",
        "  if D == 0:\n",
        "    print(\"The roots are real and same\")\n",
        "    print(-b/(2*a))\n",
        "  if D < 0:\n",
        "    print(\"The roots are imaginary\")\n",
        "    print(-b/(2*a),\"+i\",sqrt_D)\n",
        "    print(-b/(2*a),\"-i\",sqrt_D)\n",
        "\n",
        "roots(1,4,4)"
      ],
      "metadata": {
        "colab": {
          "base_uri": "https://localhost:8080/"
        },
        "id": "JzcxvtN6Tery",
        "outputId": "2f5960bb-efeb-4c6f-9d4d-d93a3b27a7a1"
      },
      "execution_count": 14,
      "outputs": [
        {
          "output_type": "stream",
          "name": "stdout",
          "text": [
            "The roots are real and same\n",
            "-2.0\n"
          ]
        }
      ]
    }
  ]
}